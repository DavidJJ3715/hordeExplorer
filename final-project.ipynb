{
 "cells": [
  {
   "cell_type": "markdown",
   "id": "12564f16",
   "metadata": {},
   "source": [
    "# Final Project: Developing an Adaptive Damage System to Increase Game Difficulty\n",
    "\n",
    "## Overview\n",
    "The goal of the project is to dynamically increase a video games difficulty based on player input. The project adapts an enemy AI system to allow enemies to evolve resistances based on frequency of player attack types.\n",
    "\n",
    "## Launching the Game\n",
    "To play the game either compile the game code yourself if you have SDL2 libraries, or run on Windows.\n",
    "In Windows, access the \"play\" folder and use the application on Windows (make sure to leave the application in the folder with the dll files).\n",
    "\n",
    "## Controls\n",
    " - WASD to move around the map\n",
    " - Mouse to aim the player in the direction of the enemy\n",
    " - Space bar to shoot projectiles\n",
    " - TAB key to change damage type\n",
    " - ESCAPE key to pause/leave"
   ]
  },
  {
   "cell_type": "markdown",
   "id": "3c68547c",
   "metadata": {},
   "source": [
    "## Task Definition\n",
    "\n",
    "### Goal\n",
    "The goal is to design an AI system that allows enemies to develop resistances to the player's most common attacks on the prior levels of a system.\n",
    "\n",
    "### Input\n",
    " - Player attack history and type\n",
    " - The current level number\n",
    "\n",
    "### Output\n",
    " - Spawn enemies with around 90% of them being resistant to the most frequently used attack.\n",
    "\n",
    "### Motivation\n",
    "The reason behind this project is based on many arcade style games having a \"spam\" style of play, where the user doesn't need to switch up their strategy in order to succeed. The core concept being demoed in this project is meant to demonstrate just one aspect of what would be a larger evolving system including environmental changes, as well as counter-attacks.\n",
    "\n",
    "### Evaluation Metrics\n",
    " - Adaptation Accuracy: How well the enemy adapts to resistances.\n",
    " - Gameplay Challenge (Subjective): How much the game gets harder as time goes on.\n",
    " - Attack Variety: Are players forced to diversify tactics to respond enemy (is punishment enough?)"
   ]
  },
  {
   "cell_type": "markdown",
   "id": "2824015b",
   "metadata": {},
   "source": [
    "## Approach\n",
    "\n",
    "### Baselines\n",
    "1. **Random Resistance**: Enemies sometimes choose random attack types and hope that it is right.\n",
    "2. **Majority Damage Resistance**: Enemies resist the most commonly used attack-type.\n",
    "\n",
    "### Advanced Method (Mixed Approach)\n",
    " - 87.5% chance: Enemies are resisting the most common type\n",
    " - 12.5% chance: Enemies are randomly choosing their resistance\n",
    "\n",
    "### Oracle (Perfect Adaptation)\n",
    " - Enemy will always use the attack with the most use at all times.\n",
    "\n",
    "### Tradeoffs\n",
    "|  Method  |       Pros       |        Cons        |\n",
    "|----------|------------------|--------------------|\n",
    "|  Random  |   Unpredictable  |   No adaptation    |\n",
    "| Majority |  Counters input  |    Predictable     |\n",
    "|   Mixed  | Balanced variety | Toss-Up adaptation |\n",
    "|  Oracle  |  Hardest to beat | Frustrating to use |\n",
    "\n",
    "I chose the Mixed approach because it balanced out difficulty with the learning predictability.\n",
    "Mixed also has the advantage of being easily tunable. The adaptation chance is controlled in one variable as the level is finished."
   ]
  },
  {
   "cell_type": "markdown",
   "id": "8f397563",
   "metadata": {},
   "source": [
    "## Data and Experiments\n",
    "ChatGPT generated this tab so I knew how to start developing the program towards the tests.\n",
    "\n",
    "### Data Generation\n",
    "- Simulate 100 levels with scripted player behavior (e.g., 80% physical attacks).\n",
    "- Track:\n",
    "  - Damage type proportions.\n",
    "  - Enemy resistances per level.\n",
    "  - Changes in \"player\" attack patterns (in adaptive script).\n",
    "\n",
    "### Experiment 1: Adaptation Accuracy\n",
    "- Hypothesis: Resistance % for dominant attack types should increase with level.\n",
    "\n",
    "### Experiment 2: Randomness Effect\n",
    "- Compare Random, Majority, Mixed approaches on adaptation accuracy.\n",
    "\n",
    "### Experiment 3: Player Variety Response\n",
    "- Use adaptive \"player\" that switches tactics when resistance rises.\n",
    "- Measure attack diversity index.\n",
    "\n",
    "### Experiment 4: Difficulty Progression\n",
    "- Measure time/enemies needed to clear levels with different adaptation strategies.\n",
    "\n",
    "### Data Visualization\n",
    "Results will be visualized using:\n",
    "- Line graphs for resistance trends.\n",
    "- Heatmaps for attack usage diversity.\n",
    "- Curves showing difficulty over levels.\n"
   ]
  },
  {
   "cell_type": "markdown",
   "id": "43f19e01",
   "metadata": {},
   "source": [
    "## Conclusion\n",
    "\n",
    "Implementing a system that bases game difficulty on player interaction, as well as allowing a little it of randomness into the algorithm allows for the game to scale in difficulty not only with enemy count, but also with enemy adaptation. The algorithm also excels in preventing the user from sitting in a corner and holding the space bar, which was the intended goal of the project.\n",
    "\n",
    "Features for the Future:\n",
    " - Allowing adaptations to be on the individual scale, meaning some enemies can choose to favor other damage types based on their own preferred algorithm (not just majority).\n",
    " - Incorporating more adaptive behaviors into the game, not just the player's damage type."
   ]
  }
 ],
 "metadata": {
  "language_info": {
   "name": "python"
  }
 },
 "nbformat": 4,
 "nbformat_minor": 5
}
